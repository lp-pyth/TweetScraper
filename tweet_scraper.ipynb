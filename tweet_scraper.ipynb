{
 "cells": [
  {
   "cell_type": "code",
   "execution_count": 1,
   "id": "30c733fd",
   "metadata": {},
   "outputs": [],
   "source": [
    "#https://www.simonlindgren.com/notes/2017/11/7/scrape-tweets-without-using-the-api\n",
    "import scrapy"
   ]
  },
  {
   "cell_type": "code",
   "execution_count": 5,
   "id": "32fc7b69",
   "metadata": {},
   "outputs": [],
   "source": [
    "import pandas as pd\n",
    "import glob\n",
    "import json"
   ]
  },
  {
   "cell_type": "code",
   "execution_count": 7,
   "id": "b915d32d",
   "metadata": {},
   "outputs": [
    {
     "data": {
      "text/plain": [
       "1198"
      ]
     },
     "execution_count": 7,
     "metadata": {},
     "output_type": "execute_result"
    }
   ],
   "source": [
    "files = glob.glob('Data/tweet/*')\n",
    "#files = glob.glob('user/*')\n",
    "len(files)"
   ]
  },
  {
   "cell_type": "code",
   "execution_count": 10,
   "id": "29dd9aab",
   "metadata": {},
   "outputs": [],
   "source": [
    "dictlist = []\n",
    "\n",
    "for file in files:\n",
    "    json_string = open(file, 'r', encoding='utf-8').read()\n",
    "    json_dict = json.loads(json_string)\n",
    "    dictlist.append(json_dict)"
   ]
  },
  {
   "cell_type": "code",
   "execution_count": 11,
   "id": "bbe2a81e",
   "metadata": {},
   "outputs": [],
   "source": [
    "df = pd.DataFrame(dictlist)\n",
    "\n",
    "df = df.replace({'\\n': ' '}, regex=True) # remove linebreaks in the dataframe\n",
    "df = df.replace({'\\t': ' '}, regex=True) # remove tabs in the dataframe\n",
    "df = df.replace({'\\r': ' '}, regex=True) # remove carriage return in the dataframe"
   ]
  },
  {
   "cell_type": "code",
   "execution_count": 15,
   "id": "40244434",
   "metadata": {},
   "outputs": [
    {
     "data": {
      "text/plain": [
       "{'created_at': 'Fri May 25 15:11:41 +0000 2018',\n",
       " 'id': 1000031655585861633,\n",
       " 'id_str': '1000031655585861633',\n",
       " 'full_text': 'Have a good weekend! #morganjt #novotelbangkoksukhumvit20 #popup20 #morganeattravelsketch #drink #drinks #instafood #finedining #pub #bar #liquor #yum #yummy #instagood #cocktail #cocktails #drinkup #glass #photooftheday #beer #beers #wine #socialenvy #delicious #eating #foo… https://t.co/IRNj03BNzH',\n",
       " 'truncated': False,\n",
       " 'display_text_range': [0, 276],\n",
       " 'entities': {'hashtags': [{'text': 'morganjt', 'indices': [21, 30]},\n",
       "   {'text': 'novotelbangkoksukhumvit20', 'indices': [31, 57]},\n",
       "   {'text': 'popup20', 'indices': [58, 66]},\n",
       "   {'text': 'morganeattravelsketch', 'indices': [67, 89]},\n",
       "   {'text': 'drink', 'indices': [90, 96]},\n",
       "   {'text': 'drinks', 'indices': [97, 104]},\n",
       "   {'text': 'instafood', 'indices': [105, 115]},\n",
       "   {'text': 'finedining', 'indices': [116, 127]},\n",
       "   {'text': 'pub', 'indices': [128, 132]},\n",
       "   {'text': 'bar', 'indices': [133, 137]},\n",
       "   {'text': 'liquor', 'indices': [138, 145]},\n",
       "   {'text': 'yum', 'indices': [146, 150]},\n",
       "   {'text': 'yummy', 'indices': [151, 157]},\n",
       "   {'text': 'instagood', 'indices': [158, 168]},\n",
       "   {'text': 'cocktail', 'indices': [169, 178]},\n",
       "   {'text': 'cocktails', 'indices': [179, 189]},\n",
       "   {'text': 'drinkup', 'indices': [190, 198]},\n",
       "   {'text': 'glass', 'indices': [199, 205]},\n",
       "   {'text': 'photooftheday', 'indices': [206, 220]},\n",
       "   {'text': 'beer', 'indices': [221, 226]},\n",
       "   {'text': 'beers', 'indices': [227, 233]},\n",
       "   {'text': 'wine', 'indices': [234, 239]},\n",
       "   {'text': 'socialenvy', 'indices': [240, 251]},\n",
       "   {'text': 'delicious', 'indices': [252, 262]},\n",
       "   {'text': 'eating', 'indices': [263, 270]},\n",
       "   {'text': 'foo', 'indices': [271, 275]}],\n",
       "  'symbols': [],\n",
       "  'user_mentions': [],\n",
       "  'urls': [],\n",
       "  'media': [{'id': 1000031654298226688,\n",
       "    'id_str': '1000031654298226688',\n",
       "    'indices': [277, 300],\n",
       "    'media_url': 'http://pbs.twimg.com/media/DeDTfb6XkAAqMNo.jpg',\n",
       "    'media_url_https': 'https://pbs.twimg.com/media/DeDTfb6XkAAqMNo.jpg',\n",
       "    'url': 'https://t.co/IRNj03BNzH',\n",
       "    'display_url': 'pic.twitter.com/IRNj03BNzH',\n",
       "    'expanded_url': 'https://twitter.com/morgant2421/status/1000031655585861633/photo/1',\n",
       "    'type': 'photo',\n",
       "    'original_info': {'width': 640,\n",
       "     'height': 640,\n",
       "     'focus_rects': [{'x': 0, 'y': 282, 'h': 358, 'w': 640},\n",
       "      {'x': 0, 'y': 0, 'h': 640, 'w': 640},\n",
       "      {'x': 79, 'y': 0, 'h': 640, 'w': 561},\n",
       "      {'x': 240, 'y': 0, 'h': 640, 'w': 320},\n",
       "      {'x': 0, 'y': 0, 'h': 640, 'w': 640}]},\n",
       "    'sizes': {'thumb': {'w': 150, 'h': 150, 'resize': 'crop'},\n",
       "     'large': {'w': 640, 'h': 640, 'resize': 'fit'},\n",
       "     'medium': {'w': 640, 'h': 640, 'resize': 'fit'},\n",
       "     'small': {'w': 640, 'h': 640, 'resize': 'fit'}}}]},\n",
       " 'extended_entities': {'media': [{'id': 1000031654298226688,\n",
       "    'id_str': '1000031654298226688',\n",
       "    'indices': [277, 300],\n",
       "    'media_url': 'http://pbs.twimg.com/media/DeDTfb6XkAAqMNo.jpg',\n",
       "    'media_url_https': 'https://pbs.twimg.com/media/DeDTfb6XkAAqMNo.jpg',\n",
       "    'url': 'https://t.co/IRNj03BNzH',\n",
       "    'display_url': 'pic.twitter.com/IRNj03BNzH',\n",
       "    'expanded_url': 'https://twitter.com/morgant2421/status/1000031655585861633/photo/1',\n",
       "    'type': 'photo',\n",
       "    'original_info': {'width': 640,\n",
       "     'height': 640,\n",
       "     'focus_rects': [{'x': 0, 'y': 282, 'h': 358, 'w': 640},\n",
       "      {'x': 0, 'y': 0, 'h': 640, 'w': 640},\n",
       "      {'x': 79, 'y': 0, 'h': 640, 'w': 561},\n",
       "      {'x': 240, 'y': 0, 'h': 640, 'w': 320},\n",
       "      {'x': 0, 'y': 0, 'h': 640, 'w': 640}]},\n",
       "    'sizes': {'thumb': {'w': 150, 'h': 150, 'resize': 'crop'},\n",
       "     'large': {'w': 640, 'h': 640, 'resize': 'fit'},\n",
       "     'medium': {'w': 640, 'h': 640, 'resize': 'fit'},\n",
       "     'small': {'w': 640, 'h': 640, 'resize': 'fit'}},\n",
       "    'media_key': '3_1000031654298226688',\n",
       "    'ext_alt_text': None,\n",
       "    'ext_media_availability': {'status': 'available'},\n",
       "    'ext_media_color': {'palette': [{'rgb': {'red': 39,\n",
       "        'green': 41,\n",
       "        'blue': 33},\n",
       "       'percentage': 54.76},\n",
       "      {'rgb': {'red': 123, 'green': 124, 'blue': 103}, 'percentage': 19.14},\n",
       "      {'rgb': {'red': 160, 'green': 129, 'blue': 53}, 'percentage': 9.41},\n",
       "      {'rgb': {'red': 239, 'green': 241, 'blue': 227}, 'percentage': 3.79},\n",
       "      {'rgb': {'red': 132, 'green': 158, 'blue': 86}, 'percentage': 3.3}]},\n",
       "    'ext': {'mediaStats': {'r': 'Missing', 'ttl': -1}}}]},\n",
       " 'source': '<a href=\"https://ifttt.com\" rel=\"nofollow\">IFTTT</a>',\n",
       " 'in_reply_to_status_id': None,\n",
       " 'in_reply_to_status_id_str': None,\n",
       " 'in_reply_to_user_id': None,\n",
       " 'in_reply_to_user_id_str': None,\n",
       " 'in_reply_to_screen_name': None,\n",
       " 'user_id': 172369420,\n",
       " 'user_id_str': '172369420',\n",
       " 'geo': None,\n",
       " 'coordinates': None,\n",
       " 'place': None,\n",
       " 'contributors': None,\n",
       " 'is_quote_status': False,\n",
       " 'retweet_count': 0,\n",
       " 'favorite_count': 0,\n",
       " 'reply_count': 0,\n",
       " 'quote_count': 0,\n",
       " 'conversation_id': 1000031655585861633,\n",
       " 'conversation_id_str': '1000031655585861633',\n",
       " 'favorited': False,\n",
       " 'retweeted': False,\n",
       " 'possibly_sensitive': False,\n",
       " 'possibly_sensitive_editable': True,\n",
       " 'lang': 'en',\n",
       " 'supplemental_language': None}"
      ]
     },
     "execution_count": 15,
     "metadata": {},
     "output_type": "execute_result"
    }
   ],
   "source": [
    "df.raw_data.loc[0]"
   ]
  },
  {
   "cell_type": "code",
   "execution_count": 12,
   "id": "d8be3e60",
   "metadata": {},
   "outputs": [],
   "source": [
    "# Export to csv\n",
    "#df.to_csv(\"data.csv\")"
   ]
  },
  {
   "cell_type": "code",
   "execution_count": null,
   "id": "8b18f75e",
   "metadata": {},
   "outputs": [],
   "source": []
  }
 ],
 "metadata": {
  "kernelspec": {
   "display_name": "Python [conda env:twitter]",
   "language": "python",
   "name": "conda-env-twitter-py"
  },
  "language_info": {
   "codemirror_mode": {
    "name": "ipython",
    "version": 3
   },
   "file_extension": ".py",
   "mimetype": "text/x-python",
   "name": "python",
   "nbconvert_exporter": "python",
   "pygments_lexer": "ipython3",
   "version": "3.9.4"
  }
 },
 "nbformat": 4,
 "nbformat_minor": 5
}
